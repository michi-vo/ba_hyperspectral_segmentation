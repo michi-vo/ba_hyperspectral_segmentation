{
 "cells": [
  {
   "cell_type": "code",
   "execution_count": 1,
   "metadata": {
    "collapsed": false,
    "pycharm": {
     "name": "#%%\n"
    }
   },
   "outputs": [],
   "source": [
    "import os\n",
    "import torch\n",
    "import scipy.io\n",
    "import matplotlib.pyplot as plt\n",
    "import cvxpy as cp\n",
    "import seaborn as sns\n",
    "from tqdm import tqdm\n",
    "import numpy as np\n",
    "\n",
    "os.chdir('..')\n",
    "import data_processing.preprocessing as preprocessing\n",
    "from config import left_cut, right_cut\n",
    "import utils\n",
    "from utils import beerlamb_multi\n",
    "\n",
    "sns.set()"
   ]
  },
  {
   "cell_type": "code",
   "execution_count": null,
   "outputs": [],
   "source": [
    "#img = scipy.io.loadmat('dataset/LWP483_10Jan2017_SharedHyperProbe.mat')\n",
    "#img = scipy.io.loadmat('dataset/2pigs/lwp475/LWP475_Ws_14Nov2016_1.mat')\n",
    "img = scipy.io.loadmat('dataset/2pigs/lwp478/LWP474_Ws_07Nov2016.mat')\n",
    "\n",
    "### Visualising spectrograms with calibration\n",
    "intensity1_c = []\n",
    "intensity2_c = []\n",
    "\n",
    "wavelengths = img['wavelengths'].astype(float)\n",
    "#white_full = img['refSpectrum'].astype(float)\n",
    "white_full = img['refIntensity'].astype(float)\n",
    "#dark_full = img['DarkCount'].astype(float)\n",
    "dark_full = img['darkcount'].astype(float)\n",
    "#spectr = img['spectralDatameasured'].astype(float)\n",
    "spectr = img['spectralDataAll'].astype(float)\n",
    "\n",
    "idx = (wavelengths >= left_cut) & (wavelengths <= right_cut)\n",
    "wavelengths = wavelengths[idx]\n",
    "spectr = spectr[idx.squeeze()]\n",
    "#dark_full = dark_full[idx.squeeze()]\n",
    "white_full = white_full[idx.squeeze()]\n",
    "\n",
    "# We wanna calibrate our HSI images w.r.t. white reference. Why? Because we saw by looking at the raw data that different\n",
    "# wavelengths have different reflection from the white materila (i.e. reflecting 99% of light). So\n",
    "# we calibrate our HSI images\n",
    "print(white_full.shape, dark_full.shape, wavelengths.shape, spectr.shape)\n",
    "\n",
    "fig, (ax, ax1, ax2) = plt.subplots(ncols=3, figsize=(12, 4))\n",
    "\n",
    "i = 200\n",
    "spectr_1 = (spectr[:, i] - dark_full[:, 0]) / (white_full[:, 0] - dark_full[:, 0])\n",
    "ax.plot(wavelengths, spectr_1)\n",
    "#ax.plot(wavelengths, spectr)\n",
    "ax.set_xlabel(\"Wavelength\", fontsize=15)\n",
    "ax.set_title(\"Base Spectrogram\", fontsize=15)\n",
    "#ax.set_ylim(-0.01, 0.3)\n",
    "\n",
    "i = 9250  #7830\n",
    "spectr_2 = (spectr[:, i] - dark_full[:, 0]) / (white_full[:, 0] - dark_full[:, 0])\n",
    "ax1.plot(wavelengths, spectr_2)\n",
    "ax1.set_xlabel(\"Wavelength\", fontsize=15)\n",
    "#ax1.plot(wavelengths, spectr[:,100])\n",
    "#ax.set_xlabel(\"Wavelength\", fontsize=20)\n",
    "ax1.set_title(\"Hypoxia Spectrogram\", fontsize=15)\n",
    "#ax1.set_ylim(-0.01, 0.3)\n",
    "\n",
    "spectr_1[spectr_1 <= 0] = 0.0001\n",
    "spectr_2[spectr_2 <= 0] = 0.0001\n",
    "spectr_3 = spectr_2 / spectr_1\n",
    "ax2.plot(wavelengths, spectr_3)\n",
    "ax2.set_xlabel(\"Wavelength\", fontsize=15)\n",
    "ax2.set_title(\"Diff Spectrogram\", fontsize=15)"
   ],
   "metadata": {
    "collapsed": false,
    "pycharm": {
     "name": "#%%\n"
    }
   }
  },
  {
   "cell_type": "code",
   "execution_count": null,
   "outputs": [],
   "source": [
    "from optimisation import optimisation\n",
    "\n",
    "cut = 7830\n",
    "\n",
    "ref_spectr = (spectr[:, 0] - dark_full[:, 0]) / (white_full[:, 0] - dark_full[:, 0])\n",
    "ref_spectr[ref_spectr <= 0] = 0.0001\n",
    "\n",
    "spectra_list = []\n",
    "coef_list = []\n",
    "for i in tqdm(range(1, cut+1)):\n",
    "    #if i not in [100,200,400,2000]: continue\n",
    "    spectr2 = (spectr[:, i] - dark_full[:, 0]) / (white_full[:, 0] - dark_full[:, 0])\n",
    "    spectr2[spectr2 <= 0] = 0.0001\n",
    "\n",
    "    coef_diff, spect_diff = optimisation(ref_spectr, spectr2, i)\n",
    "\n",
    "    spectra_list.append(spect_diff)\n",
    "    coef_list.append(coef_diff)"
   ],
   "metadata": {
    "collapsed": false,
    "pycharm": {
     "name": "#%%\n"
    }
   }
  },
  {
   "cell_type": "code",
   "execution_count": null,
   "outputs": [],
   "source": [
    "utils.save_data(ref_spectr, spectra_list, coef_list)"
   ],
   "metadata": {
    "collapsed": false,
    "pycharm": {
     "name": "#%%\n"
    }
   }
  }
 ],
 "metadata": {
  "kernelspec": {
   "display_name": "Python 3",
   "language": "python",
   "name": "python3"
  },
  "language_info": {
   "codemirror_mode": {
    "name": "ipython",
    "version": 3
   },
   "file_extension": ".py",
   "mimetype": "text/x-python",
   "name": "python",
   "nbconvert_exporter": "python",
   "pygments_lexer": "ipython3",
   "version": "3.9.15"
  }
 },
 "nbformat": 4,
 "nbformat_minor": 0
}